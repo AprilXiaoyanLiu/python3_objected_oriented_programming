{
 "cells": [
  {
   "cell_type": "code",
   "execution_count": 2,
   "metadata": {
    "collapsed": true
   },
   "outputs": [],
   "source": [
    "class MyFirstClass:\n",
    "    pass"
   ]
  },
  {
   "cell_type": "code",
   "execution_count": 3,
   "metadata": {
    "collapsed": false
   },
   "outputs": [
    {
     "name": "stdout",
     "output_type": "stream",
     "text": [
      "<__main__.MyFirstClass object at 0x10c550da0>\n",
      "<__main__.MyFirstClass object at 0x10c550d68>\n"
     ]
    }
   ],
   "source": [
    "# instantitates two objects from the new class\n",
    "a = MyFirstClass()\n",
    "b = MyFirstClass()\n",
    "print (a)\n",
    "print (b)"
   ]
  },
  {
   "cell_type": "markdown",
   "metadata": {},
   "source": [
    "# Adding attributes"
   ]
  },
  {
   "cell_type": "code",
   "execution_count": 5,
   "metadata": {
    "collapsed": true
   },
   "outputs": [],
   "source": [
    "class Point:\n",
    "    pass"
   ]
  },
  {
   "cell_type": "code",
   "execution_count": 6,
   "metadata": {
    "collapsed": false
   },
   "outputs": [
    {
     "name": "stdout",
     "output_type": "stream",
     "text": [
      "5 4\n",
      "3 6\n"
     ]
    }
   ],
   "source": [
    "# assign an attribute to a given object\n",
    "p1 = Point()\n",
    "p2 = Point()\n",
    "p1.x = 5\n",
    "p1.y = 4\n",
    "p2.x = 3\n",
    "p2.y = 6\n",
    "print(p1.x, p1.y)\n",
    "print(p2.x, p2.y)"
   ]
  },
  {
   "cell_type": "markdown",
   "metadata": {},
   "source": [
    "# Making it do something"
   ]
  },
  {
   "cell_type": "code",
   "execution_count": 7,
   "metadata": {
    "collapsed": true
   },
   "outputs": [],
   "source": [
    "# start with a method called reset that moves the point to the origin\n",
    "class Point:\n",
    "    def reset(self):\n",
    "        self.x = 0\n",
    "        self.y = 0"
   ]
  },
  {
   "cell_type": "code",
   "execution_count": 8,
   "metadata": {
    "collapsed": false
   },
   "outputs": [
    {
     "name": "stdout",
     "output_type": "stream",
     "text": [
      "0 0\n"
     ]
    }
   ],
   "source": [
    "p = Point()\n",
    "p.reset()\n",
    "print(p.x, p.y)"
   ]
  },
  {
   "cell_type": "code",
   "execution_count": 9,
   "metadata": {
    "collapsed": true
   },
   "outputs": [],
   "source": [
    "import math\n",
    "class Point:\n",
    "    '''Move a point to an arbitrary position;\n",
    "        Accept another Point object as input and return the distance between them'''\n",
    "    def move(self, x, y):\n",
    "        self.x = x\n",
    "        self.y = y\n",
    "    def reset(self):\n",
    "        self.move(0,0)\n",
    "    def calcuate_distance(self, other_point):\n",
    "        return math.sqrt((self.x - other_point.x)**2 + (self.y - other_point.y)**2)"
   ]
  },
  {
   "cell_type": "code",
   "execution_count": 10,
   "metadata": {
    "collapsed": false
   },
   "outputs": [
    {
     "data": {
      "text/plain": [
       "2.8284271247461903"
      ]
     },
     "execution_count": 10,
     "metadata": {},
     "output_type": "execute_result"
    }
   ],
   "source": [
    "point1 = Point()\n",
    "point2 = Point()\n",
    "point1.move(3,4)\n",
    "point2.move(5,6)\n",
    "point1.calcuate_distance(point2)"
   ]
  },
  {
   "cell_type": "code",
   "execution_count": 12,
   "metadata": {
    "collapsed": false
   },
   "outputs": [
    {
     "data": {
      "text/plain": [
       "3"
      ]
     },
     "execution_count": 12,
     "metadata": {},
     "output_type": "execute_result"
    }
   ],
   "source": [
    "point1.x"
   ]
  },
  {
   "cell_type": "markdown",
   "metadata": {},
   "source": [
    "# Initializing the object"
   ]
  },
  {
   "cell_type": "code",
   "execution_count": 13,
   "metadata": {
    "collapsed": false
   },
   "outputs": [
    {
     "name": "stdout",
     "output_type": "stream",
     "text": [
      "5\n"
     ]
    },
    {
     "ename": "AttributeError",
     "evalue": "'Point' object has no attribute 'y'",
     "output_type": "error",
     "traceback": [
      "\u001b[0;31m---------------------------------------------------------------------------\u001b[0m",
      "\u001b[0;31mAttributeError\u001b[0m                            Traceback (most recent call last)",
      "\u001b[0;32m<ipython-input-13-e4256361258e>\u001b[0m in \u001b[0;36m<module>\u001b[0;34m()\u001b[0m\n\u001b[1;32m      2\u001b[0m \u001b[0mpoint\u001b[0m\u001b[0;34m.\u001b[0m\u001b[0mx\u001b[0m \u001b[0;34m=\u001b[0m \u001b[0;36m5\u001b[0m\u001b[0;34m\u001b[0m\u001b[0m\n\u001b[1;32m      3\u001b[0m \u001b[0mprint\u001b[0m\u001b[0;34m(\u001b[0m\u001b[0mpoint\u001b[0m\u001b[0;34m.\u001b[0m\u001b[0mx\u001b[0m\u001b[0;34m)\u001b[0m\u001b[0;34m\u001b[0m\u001b[0m\n\u001b[0;32m----> 4\u001b[0;31m \u001b[0mprint\u001b[0m\u001b[0;34m(\u001b[0m\u001b[0mpoint\u001b[0m\u001b[0;34m.\u001b[0m\u001b[0my\u001b[0m\u001b[0;34m)\u001b[0m\u001b[0;34m\u001b[0m\u001b[0m\n\u001b[0m",
      "\u001b[0;31mAttributeError\u001b[0m: 'Point' object has no attribute 'y'"
     ]
    }
   ],
   "source": [
    "point = Point()\n",
    "point.x = 5\n",
    "print(point.x)\n",
    "print(point.y)"
   ]
  },
  {
   "cell_type": "code",
   "execution_count": 14,
   "metadata": {
    "collapsed": true
   },
   "outputs": [],
   "source": [
    "class Point:\n",
    "    def __init__(self, x, y):\n",
    "        self.move(x,y)\n",
    "    \n",
    "    def move(self, x, y):\n",
    "        self.x = x\n",
    "        self.y = y\n",
    "    def reset (self):\n",
    "        self.move(0,0)"
   ]
  },
  {
   "cell_type": "code",
   "execution_count": 15,
   "metadata": {
    "collapsed": false
   },
   "outputs": [
    {
     "name": "stdout",
     "output_type": "stream",
     "text": [
      "3 5\n"
     ]
    }
   ],
   "source": [
    "# Constructing a Point\n",
    "point = Point(3,5)\n",
    "print(point.x, point.y)"
   ]
  },
  {
   "cell_type": "code",
   "execution_count": 16,
   "metadata": {
    "collapsed": true
   },
   "outputs": [],
   "source": [
    "# What if we don't want to make those two arguments required?\n",
    "class Point:\n",
    "    def __init__(self, x=0, y=0):\n",
    "        self.move(x,y)"
   ]
  },
  {
   "cell_type": "markdown",
   "metadata": {},
   "source": [
    "# Explaining yourself"
   ]
  },
  {
   "cell_type": "code",
   "execution_count": 20,
   "metadata": {
    "collapsed": false
   },
   "outputs": [],
   "source": [
    "import math\n",
    "class Point:\n",
    "    'Represents a point in two-dimensional geometric coordinates'\n",
    "    def __init__(self, x=0, y=0):\n",
    "        '''Initialize the position of a new point. The x and y\n",
    "            coordinates can be specified. If they are not, the point\n",
    "            defaults to the origin.'''\n",
    "        self.move(x, y)\n",
    "    def move(self, x, y):\n",
    "        \"Move the point to a new location in two-dimensional space.\"\n",
    "        self.x = x\n",
    "        self.y = y\n",
    "    def reset(self):\n",
    "        'Reset the point back to the geometric origin: 0, 0'\n",
    "        self.move(0, 0)\n",
    "    def calculate_distance(self, other_point):\n",
    "        \"\"\"Calculate the distance from this point to a second point\n",
    "            passed as a parameter.\n",
    "           This function uses the Pythagorean Theorem to calculate\n",
    "           the distance between the two points. The distance is returned\n",
    "           as a float.\"\"\"\n",
    "        return math.sqrt((self.x - other_point.x)**2 +(self.y - other_point.y)**2)"
   ]
  },
  {
   "cell_type": "markdown",
   "metadata": {},
   "source": [
    "# Modules and packages"
   ]
  },
  {
   "cell_type": "markdown",
   "metadata": {},
   "source": [
    "Modules are simply Python files. The single file in our small program is a module. Two Python files are two modules"
   ]
  },
  {
   "cell_type": "raw",
   "metadata": {},
   "source": [
    "Here's a concrete example. Assume we have a module called database.py that contains a class called Database, and a second module called products.py that is responsible for product-related queries. At this point, we don't need to think too much about the contents of these  les. What we know is that products.py needs to instantiate the Database class from database.py so it can execute queries on the product table in the database.\n"
   ]
  },
  {
   "cell_type": "raw",
   "metadata": {},
   "source": [
    "# v1\n",
    "import database\n",
    "db = database.Database()\n",
    "# Do queries on db"
   ]
  },
  {
   "cell_type": "raw",
   "metadata": {},
   "source": [
    "# v2\n",
    "from database import Database\n",
    "db = Database()"
   ]
  },
  {
   "cell_type": "raw",
   "metadata": {},
   "source": [
    "# v3\n",
    "from database import Database as DB\n",
    "db = DB()"
   ]
  },
  {
   "cell_type": "raw",
   "metadata": {},
   "source": [
    "We can also import multiple items in one statement. If our database module also contains a Query class, we can import both classes using:"
   ]
  },
  {
   "cell_type": "raw",
   "metadata": {},
   "source": [
    "from database import Database, Query"
   ]
  },
  {
   "cell_type": "markdown",
   "metadata": {},
   "source": [
    "# Organizaing the modules"
   ]
  },
  {
   "cell_type": "raw",
   "metadata": {},
   "source": [
    "Files, however, can go in folders and so can modules. A package is a collection of modules in a folder. The name of the package is the name of the folder. All we need to do to tell Python that a folder is a package and place a (normally empty)  le in the folder named __init__.py. If we forget this  le, we won't be able to import modules from that folder."
   ]
  },
  {
   "cell_type": "raw",
   "metadata": {},
   "source": [
    "Let's put our modules inside an ecommerce package in our working folder, which will also contain a main.py to start the program. Let's additionally add another package in the ecommerce package for various payment options. The folder hierarchy will look like this:\n",
    "   parent_directory/\n",
    "       main.py\n",
    "       ecommerce/\n",
    "             __init__.py\n",
    "             database.py\n",
    "             products.py\n",
    "             payments/\n",
    "                    __init__.py\n",
    "                    paypal.py\n",
    "                    authorizenet.py"
   ]
  },
  {
   "cell_type": "raw",
   "metadata": {},
   "source": [
    "When importing modules or classes between packages, we have to be cautious about the syntax. In Python 3, there are two ways of importing modules: absolute imports and relative imports."
   ]
  },
  {
   "cell_type": "markdown",
   "metadata": {},
   "source": [
    "## Absolute imports"
   ]
  },
  {
   "cell_type": "raw",
   "metadata": {},
   "source": [
    "Absolute imports specify the complete path to the module, function, or path we want to import. If we need access to the Product class inside the products module, we could use any of these syntaxes to do an absolute import:"
   ]
  },
  {
   "cell_type": "code",
   "execution_count": null,
   "metadata": {
    "collapsed": true
   },
   "outputs": [],
   "source": [
    "import ecommerce.products\n",
    "product = ecommerce.products.Product()"
   ]
  },
  {
   "cell_type": "code",
   "execution_count": null,
   "metadata": {
    "collapsed": true
   },
   "outputs": [],
   "source": [
    "from ecommerce.products import Product\n",
    "product = Product()"
   ]
  },
  {
   "cell_type": "code",
   "execution_count": null,
   "metadata": {
    "collapsed": true
   },
   "outputs": [],
   "source": [
    "from ecommerce import products\n",
    "product = products.Product()"
   ]
  },
  {
   "cell_type": "code",
   "execution_count": null,
   "metadata": {
    "collapsed": true
   },
   "outputs": [],
   "source": [
    "The import statements separate packages or modules using the period as a separator."
   ]
  },
  {
   "cell_type": "markdown",
   "metadata": {},
   "source": [
    "## Relative imports"
   ]
  },
  {
   "cell_type": "markdown",
   "metadata": {
    "collapsed": true
   },
   "source": [
    "# Case Study"
   ]
  },
  {
   "cell_type": "markdown",
   "metadata": {},
   "source": [
    "build a simple command-line notebook application"
   ]
  },
  {
   "cell_type": "raw",
   "metadata": {},
   "source": [
    "First, define folder structure for this project\n",
    "\n",
    "parent_directory/\n",
    "       notebook.py\n",
    "       menu.py\n",
    "       command_option.py"
   ]
  },
  {
   "cell_type": "markdown",
   "metadata": {},
   "source": [
    "define the Note class"
   ]
  },
  {
   "cell_type": "code",
   "execution_count": 23,
   "metadata": {
    "collapsed": false
   },
   "outputs": [
    {
     "data": {
      "text/plain": [
       "True"
      ]
     },
     "execution_count": 23,
     "metadata": {},
     "output_type": "execute_result"
    }
   ],
   "source": [
    "a = 'bcd'\n",
    "c = 'abcde'\n",
    "a in c"
   ]
  },
  {
   "cell_type": "code",
   "execution_count": null,
   "metadata": {
    "collapsed": true
   },
   "outputs": [],
   "source": [
    "import datatime\n",
    "\n",
    "class Note:\n",
    "    \n",
    "    t = []\n",
    "    \n",
    "    def __init__(self, memo, tags, creation_date):\n",
    "        self.memo = memo\n",
    "        t.append(self.tags)\n",
    "        self.creation_date = today()\n",
    "        \n",
    "    def match(self, search_filter):\n",
    "        \"\"\"This method will accept a string and can tell us if a note matches the\n",
    "            string without accessing the attributes directly\n",
    "            \n",
    "           input: search_filter\n",
    "           output: a list of memo matched with search_filter\n",
    "            \"\"\"\n",
    "        if search_filter in self.memo or search_filter in tags:\n",
    "            \n",
    "            return self.memo\n",
    "            \n",
    "        \n",
    "        \n",
    "        \n",
    "        "
   ]
  },
  {
   "cell_type": "code",
   "execution_count": 43,
   "metadata": {
    "collapsed": false
   },
   "outputs": [],
   "source": [
    "import datetime\n",
    "\n",
    "# Store the next available id for all new notes\n",
    "last_id = 0\n",
    "\n",
    "class Note:\n",
    "    '''Represent a note in a notebook. Match against a string in searches \n",
    "    and store tags for each notes.'''\n",
    "    \n",
    "    def __init__(self, memo, tags = ''):\n",
    "        '''initialize a note with memo and additional space-seperated tags. \n",
    "        Automatically set the note's craetion date and a unique id.'''\n",
    "        self.memo = memo\n",
    "        self.tags = tags\n",
    "        self.creation_date = datetime.date.today()\n",
    "        global last_id\n",
    "        #last_id = 0\n",
    "        last_id += 1\n",
    "        self.id = last_id\n",
    "        \n",
    "        \n",
    "    def match(self, filter):\n",
    "        '''Determine if this note matches the filter text.\n",
    "        Return True if it matches, False otherwise.\n",
    "        \n",
    "        Search is case sensitive and matches both text and tags.'''\n",
    "        \n",
    "        return filter in self.memo or filter in self.tags\n",
    "        \n",
    "        \n",
    "        "
   ]
  },
  {
   "cell_type": "code",
   "execution_count": 44,
   "metadata": {
    "collapsed": false
   },
   "outputs": [],
   "source": [
    "n1 = Note(\"hello first\")"
   ]
  },
  {
   "cell_type": "code",
   "execution_count": 45,
   "metadata": {
    "collapsed": false
   },
   "outputs": [],
   "source": [
    "n2 = Note(\"hello again\")"
   ]
  },
  {
   "cell_type": "code",
   "execution_count": 46,
   "metadata": {
    "collapsed": false
   },
   "outputs": [
    {
     "data": {
      "text/plain": [
       "1"
      ]
     },
     "execution_count": 46,
     "metadata": {},
     "output_type": "execute_result"
    }
   ],
   "source": [
    "n1.id"
   ]
  },
  {
   "cell_type": "code",
   "execution_count": 51,
   "metadata": {
    "collapsed": false
   },
   "outputs": [
    {
     "data": {
      "text/plain": [
       "'hello first'"
      ]
     },
     "execution_count": 51,
     "metadata": {},
     "output_type": "execute_result"
    }
   ],
   "source": [
    "n1.memo"
   ]
  },
  {
   "cell_type": "code",
   "execution_count": 47,
   "metadata": {
    "collapsed": false
   },
   "outputs": [
    {
     "data": {
      "text/plain": [
       "2"
      ]
     },
     "execution_count": 47,
     "metadata": {},
     "output_type": "execute_result"
    }
   ],
   "source": [
    "n2.id"
   ]
  },
  {
   "cell_type": "code",
   "execution_count": 48,
   "metadata": {
    "collapsed": false
   },
   "outputs": [
    {
     "data": {
      "text/plain": [
       "True"
      ]
     },
     "execution_count": 48,
     "metadata": {},
     "output_type": "execute_result"
    }
   ],
   "source": [
    "n1.match('hello')"
   ]
  },
  {
   "cell_type": "code",
   "execution_count": 49,
   "metadata": {
    "collapsed": false
   },
   "outputs": [
    {
     "data": {
      "text/plain": [
       "False"
      ]
     },
     "execution_count": 49,
     "metadata": {},
     "output_type": "execute_result"
    }
   ],
   "source": [
    "n2.match('second')"
   ]
  },
  {
   "cell_type": "code",
   "execution_count": 57,
   "metadata": {
    "collapsed": false
   },
   "outputs": [
    {
     "data": {
      "text/plain": [
       "{('ab', '1'), ('bc', 'bd'), ('c', 'b')}"
      ]
     },
     "execution_count": 57,
     "metadata": {},
     "output_type": "execute_result"
    }
   ],
   "source": [
    "notes = [('ab','1'),('bc','bd'),('c', 'b'),('d','a')]\n",
    "set([i for i in notes if 'b' in i[0] ] + [i for i in notes if 'b' in i[1] ])"
   ]
  },
  {
   "cell_type": "code",
   "execution_count": null,
   "metadata": {
    "collapsed": true
   },
   "outputs": [],
   "source": [
    "# let me give it a shot\n",
    "class Notebook:\n",
    "    \n",
    "    def __init__(self, notes):\n",
    "        '''Initialize a notebook with a list of notes'''\n",
    "        #my question: is notes a list of memo? or a list of combinitaiton of memo, tags and note_id?\n",
    "        notes = []\n",
    "    \n",
    "    def search(self, filter):\n",
    "        '''Return a list of notes that match the filter text\n",
    "        '''\n",
    "        ###########################################\n",
    "        #my thoughts: notes is a list, let's say if notes = ['ab','bc','c','d'] and filter is 'b', then notes['ab','bc']\n",
    "        #will return back. Then we can just get a comprehension list [i for i in notes if filter in i]\n",
    "        # how can I connect with with Note class？\n",
    "        return list(set([i for i in notes if 'b' in i[0] ] + [i for i in notes if 'b' in i[1]]))\n",
    "        \n",
    "    \n",
    "    def new_note(self, memo, tags = ''):\n",
    "        '''Add new note with memo and tags\n",
    "        '''\n",
    "        notes.append((memo, tags))\n",
    "        \n",
    "        \n",
    "    def modify_memo(self, note_id, new_memo):\n",
    "        '''Modify a memo'''\n",
    "        \n",
    "        \n",
    "        \n",
    "        \n",
    "    def modify_tags(self, note_id, tags):\n",
    "        \n",
    "        \n",
    "        "
   ]
  },
  {
   "cell_type": "code",
   "execution_count": 82,
   "metadata": {
    "collapsed": true
   },
   "outputs": [],
   "source": [
    "class Notebook:\n",
    "    '''Represent a collection of notes that can be tagged,\n",
    "    modified, and searched.'''\n",
    "    def __init__(self):\n",
    "        '''Initialize a notebook with an empty list.'''\n",
    "        self.notes = []\n",
    "    def new_note(self, memo, tags = ''):\n",
    "        '''Create a new note and add it to the list.'''\n",
    "        self.notes.append(Note(memo, tags))\n",
    "    def modify_memo(self, note_id, memo):\n",
    "        '''Find the note with the given id and change its memo to the given value.'''\n",
    "        for note in self.notes:\n",
    "            if note.id == note_id:\n",
    "                note.memo = memo\n",
    "                break\n",
    "    \n",
    "    def modify_tags(self, note_id, tags):\n",
    "        '''Find the note with the given id and change ists tags to the given value.'''\n",
    "        for note in self.notes:\n",
    "            if note.id == note_id:\n",
    "                note.tags = tags\n",
    "                break\n",
    "                \n",
    "    def search(self, filter):\n",
    "        '''Find all notes that match the given filter string.'''\n",
    "        return [note for note in self.notes if note.match(filter)]"
   ]
  },
  {
   "cell_type": "code",
   "execution_count": 83,
   "metadata": {
    "collapsed": true
   },
   "outputs": [],
   "source": [
    "n = Notebook()\n",
    "n.new_note(\"hello\")\n",
    "n.new_note(\"hello again\")"
   ]
  },
  {
   "cell_type": "code",
   "execution_count": 84,
   "metadata": {
    "collapsed": false
   },
   "outputs": [
    {
     "data": {
      "text/plain": [
       "[<__main__.Note at 0x10c85f0b8>, <__main__.Note at 0x10c7470b8>]"
      ]
     },
     "execution_count": 84,
     "metadata": {},
     "output_type": "execute_result"
    }
   ],
   "source": [
    "n.notes"
   ]
  },
  {
   "cell_type": "code",
   "execution_count": 85,
   "metadata": {
    "collapsed": false
   },
   "outputs": [
    {
     "data": {
      "text/plain": [
       "9"
      ]
     },
     "execution_count": 85,
     "metadata": {},
     "output_type": "execute_result"
    }
   ],
   "source": [
    "n.notes[0].id"
   ]
  },
  {
   "cell_type": "code",
   "execution_count": 86,
   "metadata": {
    "collapsed": true
   },
   "outputs": [],
   "source": [
    "n.modify_memo(9,\"hello world again\")"
   ]
  },
  {
   "cell_type": "code",
   "execution_count": 88,
   "metadata": {
    "collapsed": false
   },
   "outputs": [
    {
     "data": {
      "text/plain": [
       "'hello world again'"
      ]
     },
     "execution_count": 88,
     "metadata": {},
     "output_type": "execute_result"
    }
   ],
   "source": [
    "n.notes[0].memo"
   ]
  },
  {
   "cell_type": "code",
   "execution_count": 67,
   "metadata": {
    "collapsed": false
   },
   "outputs": [
    {
     "data": {
      "text/plain": [
       "[<__main__.Note at 0x10c84b2e8>, <__main__.Note at 0x10c84b208>]"
      ]
     },
     "execution_count": 67,
     "metadata": {},
     "output_type": "execute_result"
    }
   ],
   "source": [
    "n.notes"
   ]
  },
  {
   "cell_type": "markdown",
   "metadata": {},
   "source": [
    "The cold is a little messy. Our modify_tags and modify _memo methods are almost identical."
   ]
  },
  {
   "cell_type": "code",
   "execution_count": 89,
   "metadata": {
    "collapsed": true
   },
   "outputs": [],
   "source": [
    "def _final_note(self, note_id):\n",
    "    '''Locate the note with the given if.'''\n",
    "    for note in self.notes:\n",
    "        if note.id == note_id:\n",
    "            return note\n",
    "    return None"
   ]
  },
  {
   "cell_type": "code",
   "execution_count": 90,
   "metadata": {
    "collapsed": true
   },
   "outputs": [],
   "source": [
    "def modify_memo(self, note_id, memo):\n",
    "    '''Find the note with the given id and change its memo to the given value.'''\n",
    "    self._find_note(note_id).memo = memo"
   ]
  },
  {
   "cell_type": "markdown",
   "metadata": {},
   "source": [
    "Let's look at the menu interface. The interface simply needs to present a menu and allow the user to input choices."
   ]
  },
  {
   "cell_type": "code",
   "execution_count": null,
   "metadata": {
    "collapsed": true
   },
   "outputs": [],
   "source": [
    "import sys\n",
    "from notebook import Notebook, Note"
   ]
  },
  {
   "cell_type": "code",
   "execution_count": null,
   "metadata": {
    "collapsed": true
   },
   "outputs": [],
   "source": [
    "class Menu:\n",
    "    '''Display a menu and respond to choices when run.'''\n",
    "    def __init__(self):\n",
    "        self.notebook = Notebook()\n",
    "        self.choices = {\n",
    "            \"1\": self.show_notes,\n",
    "            \"2\": self.search_notes,\n",
    "            \"3\": self.add_note,\n",
    "            \"4\": self.modify_note,\n",
    "            \"5\": self.quit\n",
    "        }\n",
    "    def display_menu(self):\n",
    "        print(\"\"\"\n",
    "        Notebook Menu\n",
    "        \n",
    "        1. Show all Notes\n",
    "        2. Search Notes\n",
    "        3. Add Note\n",
    "        4. Modify Note\n",
    "        5. Quit\"\"\")\n",
    "        \n",
    "    def run(self):\n",
    "        '''Display the menu and respond to choices.'''\n",
    "        while True:\n",
    "            self.display_menu()\n",
    "            choice = input(\"Enter an option: \")\n",
    "            action = self.choieces.get（choice）\n",
    "            if action:\n",
    "                action()\n",
    "            else:\n",
    "                print(\"{0} is not a valid choice\".format(choice))\n",
    "    def show_notes(self, notes=None):\n",
    "        if not notes:\n",
    "            notes = self.notebook.notes\n",
    "        for note in notes:\n",
    "            print (\"{0}: (1)\\n{2}\".format(note.id, note.tags, note.memo))\n",
    "    def search_notes(self):\n",
    "        filter = input(\"Search for: \")\n",
    "        notes = self.notebook.search(filter)\n",
    "        self.show_notes(notes)\n",
    "    def add_note(self):\n",
    "        memo = input(\"Enter a memo: \")\n",
    "        self.notebook.new_note(memo)\n",
    "        print(\"Your note has been added.\")\n",
    "        \n",
    "    def modify_note(self):\n",
    "        id = input(\"Enter a note id: \")\n",
    "        memo = input(\"Enter a memo: \")\n",
    "        tags = input(\"Enter tags: \")\n",
    "        if memo:\n",
    "            self.notebook.modify_memo(id, memo)\n",
    "        if tags:\n",
    "            self.notebook.modify_tags(id, tags)\n",
    "    def quit(self):\n",
    "        print(\"Thank you for using your notebook today.\")\n",
    "        sys.exist(0）\n",
    "\n",
    "if __name__ == \"__main__\":\n",
    "    Menu().run()"
   ]
  },
  {
   "cell_type": "code",
   "execution_count": null,
   "metadata": {
    "collapsed": true
   },
   "outputs": [],
   "source": []
  }
 ],
 "metadata": {
  "kernelspec": {
   "display_name": "Python 3",
   "language": "python",
   "name": "python3"
  },
  "language_info": {
   "codemirror_mode": {
    "name": "ipython",
    "version": 3
   },
   "file_extension": ".py",
   "mimetype": "text/x-python",
   "name": "python",
   "nbconvert_exporter": "python",
   "pygments_lexer": "ipython3",
   "version": "3.6.3"
  }
 },
 "nbformat": 4,
 "nbformat_minor": 0
}
