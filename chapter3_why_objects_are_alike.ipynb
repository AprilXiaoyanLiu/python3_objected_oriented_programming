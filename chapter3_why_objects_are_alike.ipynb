{
 "cells": [
  {
   "cell_type": "code",
   "execution_count": 1,
   "metadata": {
    "collapsed": true
   },
   "outputs": [],
   "source": [
    "class Contact:\n",
    "    all_contacts = []\n",
    "    def __init__(self, name, email):\n",
    "        self.name = name\n",
    "        self.email = email\n",
    "        Contact.all_contacts.append(self)"
   ]
  },
  {
   "cell_type": "code",
   "execution_count": 2,
   "metadata": {
    "collapsed": true
   },
   "outputs": [],
   "source": [
    "class Supplier(Contact):\n",
    "    def order(self, order):\n",
    "        print (\"If this were a real system we would send {} order to {}\".format(order, self.name))"
   ]
  },
  {
   "cell_type": "code",
   "execution_count": 3,
   "metadata": {
    "collapsed": true
   },
   "outputs": [],
   "source": [
    "c = Contact(\"Some Body\", \"someboday@example.net\")"
   ]
  },
  {
   "cell_type": "code",
   "execution_count": 4,
   "metadata": {
    "collapsed": true
   },
   "outputs": [],
   "source": [
    "s = Supplier(\"Sup Plier\", \"supplier@example.net\")"
   ]
  },
  {
   "cell_type": "code",
   "execution_count": 5,
   "metadata": {
    "collapsed": false
   },
   "outputs": [
    {
     "name": "stdout",
     "output_type": "stream",
     "text": [
      "Some Body someboday@example.net Sup Plier supplier@example.net\n"
     ]
    }
   ],
   "source": [
    "print(c.name, c.email, s.name, s.email)"
   ]
  },
  {
   "cell_type": "code",
   "execution_count": 6,
   "metadata": {
    "collapsed": false
   },
   "outputs": [
    {
     "data": {
      "text/plain": [
       "[<__main__.Contact at 0x10386acf8>, <__main__.Supplier at 0x10384df60>]"
      ]
     },
     "execution_count": 6,
     "metadata": {},
     "output_type": "execute_result"
    }
   ],
   "source": [
    "c.all_contacts"
   ]
  },
  {
   "cell_type": "code",
   "execution_count": 7,
   "metadata": {
    "collapsed": false
   },
   "outputs": [
    {
     "ename": "AttributeError",
     "evalue": "'Contact' object has no attribute 'order'",
     "output_type": "error",
     "traceback": [
      "\u001b[0;31m---------------------------------------------------------------------------\u001b[0m",
      "\u001b[0;31mAttributeError\u001b[0m                            Traceback (most recent call last)",
      "\u001b[0;32m<ipython-input-7-49847a7fc5dd>\u001b[0m in \u001b[0;36m<module>\u001b[0;34m()\u001b[0m\n\u001b[0;32m----> 1\u001b[0;31m \u001b[0mc\u001b[0m\u001b[0;34m.\u001b[0m\u001b[0morder\u001b[0m\u001b[0;34m(\u001b[0m\u001b[0;34m\"Ineed pliers\"\u001b[0m\u001b[0;34m)\u001b[0m\u001b[0;34m\u001b[0m\u001b[0m\n\u001b[0m",
      "\u001b[0;31mAttributeError\u001b[0m: 'Contact' object has no attribute 'order'"
     ]
    }
   ],
   "source": [
    "c.order(\"Ineed pliers\")"
   ]
  },
  {
   "cell_type": "code",
   "execution_count": 8,
   "metadata": {
    "collapsed": false
   },
   "outputs": [
    {
     "name": "stdout",
     "output_type": "stream",
     "text": [
      "If this were a real system we would send I need pliers order to Sup Plier\n"
     ]
    }
   ],
   "source": [
    "s.order(\"I need pliers\")"
   ]
  },
  {
   "cell_type": "markdown",
   "metadata": {},
   "source": [
    "So now our Supplier class can do everything a Contact can do (including adding itself to the \n",
    "list of all all_contacts) and all the special things it needs to handle as a supplier."
   ]
  },
  {
   "cell_type": "markdown",
   "metadata": {},
   "source": [
    "# Extending built-ins"
   ]
  },
  {
   "cell_type": "code",
   "execution_count": 9,
   "metadata": {
    "collapsed": true
   },
   "outputs": [],
   "source": [
    "class ContactList(list):\n",
    "    def search(self, name):\n",
    "        \"\"\"Return all contacts that contain the search value in their name.\"\"\"\n",
    "        matching_contacts = []\n",
    "        for contact in self:\n",
    "            if name in contact.name:\n",
    "                matching_contacts.append(contact)\n",
    "        return matching_contacts"
   ]
  },
  {
   "cell_type": "code",
   "execution_count": 10,
   "metadata": {
    "collapsed": true
   },
   "outputs": [],
   "source": [
    "class Contact:\n",
    "    all_contacts = ContactList()\n",
    "    \n",
    "    def __init__(self, name, email):\n",
    "        self.name = name\n",
    "        self.email = email\n",
    "        self.all_contacts.append(self)"
   ]
  },
  {
   "cell_type": "markdown",
   "metadata": {},
   "source": [
    "Instead of instantiating a normal list as our class variable, we create a new ContactList class that\n",
    "extends the buit-in list. Then we instantiate this subclass as \n",
    "our all_contacts list. "
   ]
  },
  {
   "cell_type": "code",
   "execution_count": 11,
   "metadata": {
    "collapsed": false
   },
   "outputs": [
    {
     "data": {
      "text/plain": [
       "['John A', 'John B']"
      ]
     },
     "execution_count": 11,
     "metadata": {},
     "output_type": "execute_result"
    }
   ],
   "source": [
    "c1 = Contact(\"John A\", \"johna@example.net\")\n",
    "c2 = Contact(\"John B\", \"johnb@example.net\")\n",
    "c3 = Contact(\"Jenna C\", \"jennac@example.net\")\n",
    "[c.name for c in Contact.all_contacts.search('John')]"
   ]
  },
  {
   "cell_type": "code",
   "execution_count": null,
   "metadata": {
    "collapsed": true
   },
   "outputs": [],
   "source": [
    "class LongNameDict(dict):\n",
    "    def longest_key(self):\n",
    "        longest = None\n",
    "        for key in self:\n",
    "            if not longest or "
   ]
  }
 ],
 "metadata": {
  "kernelspec": {
   "display_name": "Python 3",
   "language": "python",
   "name": "python3"
  },
  "language_info": {
   "codemirror_mode": {
    "name": "ipython",
    "version": 3
   },
   "file_extension": ".py",
   "mimetype": "text/x-python",
   "name": "python",
   "nbconvert_exporter": "python",
   "pygments_lexer": "ipython3",
   "version": "3.6.4"
  }
 },
 "nbformat": 4,
 "nbformat_minor": 0
}
