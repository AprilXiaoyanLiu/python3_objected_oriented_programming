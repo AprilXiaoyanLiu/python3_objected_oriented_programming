{
 "cells": [
  {
   "cell_type": "code",
   "execution_count": 2,
   "metadata": {
    "collapsed": true
   },
   "outputs": [],
   "source": [
    "class MyFirstClass:\n",
    "    pass"
   ]
  },
  {
   "cell_type": "code",
   "execution_count": 3,
   "metadata": {
    "collapsed": false
   },
   "outputs": [
    {
     "name": "stdout",
     "output_type": "stream",
     "text": [
      "<__main__.MyFirstClass object at 0x10c550da0>\n",
      "<__main__.MyFirstClass object at 0x10c550d68>\n"
     ]
    }
   ],
   "source": [
    "# instantitates two objects from the new class\n",
    "a = MyFirstClass()\n",
    "b = MyFirstClass()\n",
    "print (a)\n",
    "print (b)"
   ]
  },
  {
   "cell_type": "markdown",
   "metadata": {},
   "source": [
    "# Adding attributes"
   ]
  },
  {
   "cell_type": "code",
   "execution_count": 5,
   "metadata": {
    "collapsed": true
   },
   "outputs": [],
   "source": [
    "class Point:\n",
    "    pass"
   ]
  },
  {
   "cell_type": "code",
   "execution_count": 6,
   "metadata": {
    "collapsed": false
   },
   "outputs": [
    {
     "name": "stdout",
     "output_type": "stream",
     "text": [
      "5 4\n",
      "3 6\n"
     ]
    }
   ],
   "source": [
    "# assign an attribute to a given object\n",
    "p1 = Point()\n",
    "p2 = Point()\n",
    "p1.x = 5\n",
    "p1.y = 4\n",
    "p2.x = 3\n",
    "p2.y = 6\n",
    "print(p1.x, p1.y)\n",
    "print(p2.x, p2.y)"
   ]
  },
  {
   "cell_type": "markdown",
   "metadata": {},
   "source": [
    "# Making it do something"
   ]
  },
  {
   "cell_type": "code",
   "execution_count": 7,
   "metadata": {
    "collapsed": true
   },
   "outputs": [],
   "source": [
    "# start with a method called reset that moves the point to the origin\n",
    "class Point:\n",
    "    def reset(self):\n",
    "        self.x = 0\n",
    "        self.y = 0"
   ]
  },
  {
   "cell_type": "code",
   "execution_count": 8,
   "metadata": {
    "collapsed": false
   },
   "outputs": [
    {
     "name": "stdout",
     "output_type": "stream",
     "text": [
      "0 0\n"
     ]
    }
   ],
   "source": [
    "p = Point()\n",
    "p.reset()\n",
    "print(p.x, p.y)"
   ]
  },
  {
   "cell_type": "code",
   "execution_count": 9,
   "metadata": {
    "collapsed": true
   },
   "outputs": [],
   "source": [
    "import math\n",
    "class Point:\n",
    "    '''Move a point to an arbitrary position;\n",
    "        Accept another Point object as input and return the distance between them'''\n",
    "    def move(self, x, y):\n",
    "        self.x = x\n",
    "        self.y = y\n",
    "    def reset(self):\n",
    "        self.move(0,0)\n",
    "    def calcuate_distance(self, other_point):\n",
    "        return math.sqrt((self.x - other_point.x)**2 + (self.y - other_point.y)**2)"
   ]
  },
  {
   "cell_type": "code",
   "execution_count": 10,
   "metadata": {
    "collapsed": false
   },
   "outputs": [
    {
     "data": {
      "text/plain": [
       "2.8284271247461903"
      ]
     },
     "execution_count": 10,
     "metadata": {},
     "output_type": "execute_result"
    }
   ],
   "source": [
    "point1 = Point()\n",
    "point2 = Point()\n",
    "point1.move(3,4)\n",
    "point2.move(5,6)\n",
    "point1.calcuate_distance(point2)"
   ]
  },
  {
   "cell_type": "code",
   "execution_count": 12,
   "metadata": {
    "collapsed": false
   },
   "outputs": [
    {
     "data": {
      "text/plain": [
       "3"
      ]
     },
     "execution_count": 12,
     "metadata": {},
     "output_type": "execute_result"
    }
   ],
   "source": [
    "point1.x"
   ]
  },
  {
   "cell_type": "markdown",
   "metadata": {},
   "source": [
    "# Initializing the object"
   ]
  },
  {
   "cell_type": "code",
   "execution_count": 13,
   "metadata": {
    "collapsed": false
   },
   "outputs": [
    {
     "name": "stdout",
     "output_type": "stream",
     "text": [
      "5\n"
     ]
    },
    {
     "ename": "AttributeError",
     "evalue": "'Point' object has no attribute 'y'",
     "output_type": "error",
     "traceback": [
      "\u001b[0;31m---------------------------------------------------------------------------\u001b[0m",
      "\u001b[0;31mAttributeError\u001b[0m                            Traceback (most recent call last)",
      "\u001b[0;32m<ipython-input-13-e4256361258e>\u001b[0m in \u001b[0;36m<module>\u001b[0;34m()\u001b[0m\n\u001b[1;32m      2\u001b[0m \u001b[0mpoint\u001b[0m\u001b[0;34m.\u001b[0m\u001b[0mx\u001b[0m \u001b[0;34m=\u001b[0m \u001b[0;36m5\u001b[0m\u001b[0;34m\u001b[0m\u001b[0m\n\u001b[1;32m      3\u001b[0m \u001b[0mprint\u001b[0m\u001b[0;34m(\u001b[0m\u001b[0mpoint\u001b[0m\u001b[0;34m.\u001b[0m\u001b[0mx\u001b[0m\u001b[0;34m)\u001b[0m\u001b[0;34m\u001b[0m\u001b[0m\n\u001b[0;32m----> 4\u001b[0;31m \u001b[0mprint\u001b[0m\u001b[0;34m(\u001b[0m\u001b[0mpoint\u001b[0m\u001b[0;34m.\u001b[0m\u001b[0my\u001b[0m\u001b[0;34m)\u001b[0m\u001b[0;34m\u001b[0m\u001b[0m\n\u001b[0m",
      "\u001b[0;31mAttributeError\u001b[0m: 'Point' object has no attribute 'y'"
     ]
    }
   ],
   "source": [
    "point = Point()\n",
    "point.x = 5\n",
    "print(point.x)\n",
    "print(point.y)"
   ]
  },
  {
   "cell_type": "code",
   "execution_count": 14,
   "metadata": {
    "collapsed": true
   },
   "outputs": [],
   "source": [
    "class Point:\n",
    "    def __init__(self, x, y):\n",
    "        self.move(x,y)\n",
    "    \n",
    "    def move(self, x, y):\n",
    "        self.x = x\n",
    "        self.y = y\n",
    "    def reset (self):\n",
    "        self.move(0,0)"
   ]
  },
  {
   "cell_type": "code",
   "execution_count": 15,
   "metadata": {
    "collapsed": false
   },
   "outputs": [
    {
     "name": "stdout",
     "output_type": "stream",
     "text": [
      "3 5\n"
     ]
    }
   ],
   "source": [
    "# Constructing a Point\n",
    "point = Point(3,5)\n",
    "print(point.x, point.y)"
   ]
  },
  {
   "cell_type": "code",
   "execution_count": 16,
   "metadata": {
    "collapsed": true
   },
   "outputs": [],
   "source": [
    "# What if we don't want to make those two arguments required?\n",
    "class Point:\n",
    "    def __init__(self, x=0, y=0):\n",
    "        self.move(x,y)"
   ]
  },
  {
   "cell_type": "markdown",
   "metadata": {},
   "source": [
    "# Explaining yourself"
   ]
  },
  {
   "cell_type": "code",
   "execution_count": 20,
   "metadata": {
    "collapsed": false
   },
   "outputs": [],
   "source": [
    "import math\n",
    "class Point:\n",
    "    'Represents a point in two-dimensional geometric coordinates'\n",
    "    def __init__(self, x=0, y=0):\n",
    "        '''Initialize the position of a new point. The x and y\n",
    "            coordinates can be specified. If they are not, the point\n",
    "            defaults to the origin.'''\n",
    "        self.move(x, y)\n",
    "    def move(self, x, y):\n",
    "        \"Move the point to a new location in two-dimensional space.\"\n",
    "        self.x = x\n",
    "        self.y = y\n",
    "    def reset(self):\n",
    "        'Reset the point back to the geometric origin: 0, 0'\n",
    "        self.move(0, 0)\n",
    "    def calculate_distance(self, other_point):\n",
    "        \"\"\"Calculate the distance from this point to a second point\n",
    "            passed as a parameter.\n",
    "           This function uses the Pythagorean Theorem to calculate\n",
    "           the distance between the two points. The distance is returned\n",
    "           as a float.\"\"\"\n",
    "        return math.sqrt((self.x - other_point.x)**2 +(self.y - other_point.y)**2)"
   ]
  },
  {
   "cell_type": "markdown",
   "metadata": {},
   "source": [
    "# Modules and packages"
   ]
  },
  {
   "cell_type": "markdown",
   "metadata": {},
   "source": [
    "Modules are simply Python files. The single file in our small program is a module. Two Python files are two modules"
   ]
  },
  {
   "cell_type": "raw",
   "metadata": {},
   "source": [
    "Here's a concrete example. Assume we have a module called database.py that contains a class called Database, and a second module called products.py that is responsible for product-related queries. At this point, we don't need to think too much about the contents of these  les. What we know is that products.py needs to instantiate the Database class from database.py so it can execute queries on the product table in the database.\n"
   ]
  },
  {
   "cell_type": "raw",
   "metadata": {},
   "source": [
    "# v1\n",
    "import database\n",
    "db = database.Database()\n",
    "# Do queries on db"
   ]
  },
  {
   "cell_type": "raw",
   "metadata": {},
   "source": [
    "# v2\n",
    "from database import Database\n",
    "db = Database()"
   ]
  },
  {
   "cell_type": "raw",
   "metadata": {},
   "source": [
    "# v3\n",
    "from database import Database as DB\n",
    "db = DB()"
   ]
  },
  {
   "cell_type": "raw",
   "metadata": {},
   "source": [
    "We can also import multiple items in one statement. If our database module also contains a Query class, we can import both classes using:"
   ]
  },
  {
   "cell_type": "raw",
   "metadata": {},
   "source": [
    "from database import Database, Query"
   ]
  },
  {
   "cell_type": "markdown",
   "metadata": {},
   "source": [
    "# Organizaing the modules"
   ]
  },
  {
   "cell_type": "raw",
   "metadata": {},
   "source": [
    "Files, however, can go in folders and so can modules. A package is a collection of modules in a folder. The name of the package is the name of the folder. All we need to do to tell Python that a folder is a package and place a (normally empty)  le in the folder named __init__.py. If we forget this  le, we won't be able to import modules from that folder."
   ]
  },
  {
   "cell_type": "raw",
   "metadata": {},
   "source": [
    "Let's put our modules inside an ecommerce package in our working folder, which will also contain a main.py to start the program. Let's additionally add another package in the ecommerce package for various payment options. The folder hierarchy will look like this:\n",
    "   parent_directory/\n",
    "       main.py\n",
    "       ecommerce/\n",
    "             __init__.py\n",
    "             database.py\n",
    "             products.py\n",
    "             payments/\n",
    "                    __init__.py\n",
    "                    paypal.py\n",
    "                    authorizenet.py"
   ]
  },
  {
   "cell_type": "raw",
   "metadata": {},
   "source": [
    "When importing modules or classes between packages, we have to be cautious about the syntax. In Python 3, there are two ways of importing modules: absolute imports and relative imports."
   ]
  },
  {
   "cell_type": "markdown",
   "metadata": {},
   "source": [
    "## Absolute imports"
   ]
  },
  {
   "cell_type": "raw",
   "metadata": {},
   "source": [
    "Absolute imports specify the complete path to the module, function, or path we want to import. If we need access to the Product class inside the products module, we could use any of these syntaxes to do an absolute import:"
   ]
  },
  {
   "cell_type": "raw",
   "metadata": {},
   "source": [
    "import ecommerce.products\n",
    "product = ecommerce.products.Product()"
   ]
  },
  {
   "cell_type": "raw",
   "metadata": {},
   "source": [
    "from ecommerce.products import Product\n",
    "product = Product()"
   ]
  },
  {
   "cell_type": "raw",
   "metadata": {},
   "source": [
    "from ecommerce import products\n",
    "product = products.Product()"
   ]
  },
  {
   "cell_type": "raw",
   "metadata": {},
   "source": [
    "The import statements separate packages or modules using the period as a separator."
   ]
  },
  {
   "cell_type": "markdown",
   "metadata": {},
   "source": [
    "## Relative imports"
   ]
  },
  {
   "cell_type": "code",
   "execution_count": null,
   "metadata": {
    "collapsed": true
   },
   "outputs": [],
   "source": []
  }
 ],
 "metadata": {
  "kernelspec": {
   "display_name": "Python 3",
   "language": "python",
   "name": "python3"
  },
  "language_info": {
   "codemirror_mode": {
    "name": "ipython",
    "version": 3
   },
   "file_extension": ".py",
   "mimetype": "text/x-python",
   "name": "python",
   "nbconvert_exporter": "python",
   "pygments_lexer": "ipython3",
   "version": "3.6.3"
  }
 },
 "nbformat": 4,
 "nbformat_minor": 0
}
